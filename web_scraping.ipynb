{
 "cells": [
  {
   "cell_type": "code",
   "execution_count": 96,
   "metadata": {},
   "outputs": [],
   "source": [
    "import pandas as pd\n",
    "import numpy as np\n",
    "import streamlit as st\n",
    "import plotly.express as px\n"
   ]
  },
  {
   "cell_type": "code",
   "execution_count": 97,
   "metadata": {},
   "outputs": [],
   "source": [
    "\n",
    "\n",
    "url = 'https://www.sports-reference.com/cbb/seasons/men/2023-ratings.html'\n",
    "html = pd.read_html(url, header = 0, skiprows=1)\n",
    "df = html[0]\n",
    "raw = df.drop(df[(df.Rk == 'Rk') | (df.OSRS == 'SRS')].index) # Deletes repeating headers in content\n",
    "teamstats = raw.drop(['Rk', 'Unnamed: 3', 'Unnamed: 10', 'Unnamed: 12'], axis=1)"
   ]
  },
  {
   "cell_type": "code",
   "execution_count": 98,
   "metadata": {},
   "outputs": [],
   "source": [
    "# Set index to school name\n",
    "teamstats = teamstats.set_index('School')"
   ]
  },
  {
   "cell_type": "code",
   "execution_count": 99,
   "metadata": {},
   "outputs": [],
   "source": [
    "# Change data types\n",
    "teamstats = teamstats.astype({'W': 'int', 'L': 'int', 'Pts': 'float', 'Opp': 'float', \n",
    "                                                          'MOV': 'float', 'SOS': 'float', 'OSRS': 'float', 'DSRS': 'float', 'SRS': 'float',\n",
    "                                                        'ORtg': 'float', 'DRtg': 'float', 'NRtg': 'float'})\n"
   ]
  },
  {
   "cell_type": "code",
   "execution_count": 107,
   "metadata": {},
   "outputs": [],
   "source": [
    "teamstats.columns = ['Conference', 'AP_rank', 'Wins', 'Losses', 'Points_per_game', 'Opponent_points_per_game', 'Margin_of_victory', 'Strength_of_schedule', 'Offensive_SRS', 'Defensive_SRS',\n",
    "       'SRS', 'Adj_offensive_rating', 'Adj_defensive_rating', 'Adj_net_rating']"
   ]
  },
  {
   "cell_type": "code",
   "execution_count": 79,
   "metadata": {},
   "outputs": [],
   "source": [
    "def rank_group(rank):\n",
    "    if rank is np.NaN:\n",
    "        return 'Unranked'\n",
    "    else:\n",
    "        return 'Top 25'\n",
    "\n",
    "# Add col to data with rank group\n",
    "teamstats['AP_rank_desc'] = teamstats['AP_rank'].apply(rank_group)"
   ]
  },
  {
   "cell_type": "code",
   "execution_count": 111,
   "metadata": {},
   "outputs": [
    {
     "data": {
      "text/plain": [
       "DeltaGenerator(_root_container=0, _provided_cursor=None, _parent=None, _block_type=None, _form_data=None)"
      ]
     },
     "execution_count": 111,
     "metadata": {},
     "output_type": "execute_result"
    }
   ],
   "source": [
    "#creating header with an option to filter the data and the checkbox:\n",
    "#dataset includes all teams but this will let users decide whether they want\n",
    "#to see all teams or just those in the top 10 conferences\n",
    "\n",
    "st.header(\"2022-23 Men's College Basketball Ratings\")\n",
    "st.markdown(\"\"\"\n",
    "* **Data Source:** https://www.sports-reference.com\n",
    "\"\"\")\n"
   ]
  },
  {
   "cell_type": "code",
   "execution_count": 102,
   "metadata": {},
   "outputs": [],
   "source": [
    "ranked = st.checkbox('Include only top 25')"
   ]
  },
  {
   "cell_type": "code",
   "execution_count": 103,
   "metadata": {},
   "outputs": [],
   "source": [
    "if ranked:\n",
    "    teamstats = teamstats[teamstats.AP_rank_desc=='Top 25']"
   ]
  },
  {
   "cell_type": "code",
   "execution_count": 104,
   "metadata": {},
   "outputs": [],
   "source": [
    "\n",
    "#creating options for filter  from all manufacturers and different years\n",
    "conference_choice = list(teamstats['Conference'].unique())\n",
    "\n",
    "#l2 = []\n",
    "#l2 = conference_choice[:]\n",
    "#l2.append('All')\n",
    "#conference_dropdown = st.multiselect('Conference: ', l2)\n",
    "\n",
    "#if 'All' in conference_dropdown :\n",
    "#\tconference_dropdown=conference_choice\n",
    "\n",
    "#st.write(conference_dropdown)\n",
    "\n",
    "make_choice_conf = st.selectbox('Select conference:', conference_choice)\n",
    "\n",
    "#filtering dataset on chosen manufacturer and chosen year range\n",
    "filtered_conf=teamstats[(teamstats.Conference==make_choice_conf)]\n",
    "\n",
    "st.header('Display Team Stats of Selected Conference')\n",
    "st.write('Data Dimensions: ' + str(filtered_conf.shape[0]) + ' rows and ' + str(filtered_conf.shape[1]) + ' columns.')\n",
    "st.dataframe(filtered_conf)\n",
    "\n",
    "\n"
   ]
  },
  {
   "cell_type": "code",
   "execution_count": 87,
   "metadata": {},
   "outputs": [
    {
     "data": {
      "text/plain": [
       "DeltaGenerator(_root_container=0, _provided_cursor=None, _parent=None, _block_type=None, _form_data=None)"
      ]
     },
     "execution_count": 87,
     "metadata": {},
     "output_type": "execute_result"
    }
   ],
   "source": [
    "st.header('Placeholder header')\n",
    "st.write(\"\"\"\n",
    "###### Now let's check how price is affected by odometer, engine capacity or number of photos in the adds\n",
    "\"\"\")\n",
    "\n",
    "#Distribution of price depending on odometer_value,engine_capacity,number_of_photos\n",
    "#with the split by age category\n",
    "\n",
    "#list_for_scatter=['odometer_value','engine_capacity','number_of_photos']\n",
    "#choice_for_scatter = st.selectbox('Price dependency on ', list_for_scatter)\n",
    "fig1 = px.scatter(teamstats, x=\"Offensive_SRS\", y='Defensive_SRS',hover_data=[teamstats.index], color='AP_rank_desc')\n",
    "\n",
    "fig1.update_layout(\n",
    "title=\"<b> Offense vs Defense</b>\")\n",
    "st.plotly_chart(fig1)"
   ]
  },
  {
   "cell_type": "code",
   "execution_count": 93,
   "metadata": {},
   "outputs": [
    {
     "data": {
      "text/plain": [
       "DeltaGenerator(_root_container=0, _provided_cursor=None, _parent=None, _block_type=None, _form_data=None)"
      ]
     },
     "execution_count": 93,
     "metadata": {},
     "output_type": "execute_result"
    }
   ],
   "source": [
    "st.header('Placeholder')\n",
    "st.write(\"\"\"\n",
    "###### Placeholder\n",
    "\"\"\")\n",
    "         \n",
    "#creating options for filter from all teams\n",
    "conf_choice = teamstats['Conference'].unique()\n",
    "make_choice1 = st.selectbox('Select team 1:', conf_choice)\n",
    "make_choice2 = st.selectbox('Select team 2:', conf_choice)\n",
    "\n",
    "#filtering dataset on chosen team and ...\n",
    "filtered_teamstats=teamstats[(teamstats['Conference']==make_choice1) | (teamstats['Conference']==make_choice2)]\n",
    "\n",
    "# Will create histograms with the split by parameter of choice: color, transmission, engine_type, body_type, state\n",
    "\n",
    "#creating list of options to choose from\n",
    "list_for_hist=['Points_per_game', 'Opponent_points_per_game', 'Margin_of_victory', 'Strength_of_schedule', 'Offensive_SRS', 'Defensive_SRS',\n",
    "       'SRS', 'Adj_offensive_rating', 'Adj_defensive_rating', 'Adj_net_rating']\n",
    "\n",
    "#creating selectbox\n",
    "choice_for_hist = st.selectbox('Performance Metrics', list_for_hist)\n",
    "\n",
    "#plotly histogram, where price_usd is split by the choice made in the selectbox\n",
    "fig2 = px.histogram(filtered_teamstats, x=choice_for_hist, color='Conference')\n",
    "\n",
    "#adding tittle\n",
    "fig2.update_layout(\n",
    "title=\"<b> Split of stats by {}</b>\".format(choice_for_hist))\n",
    "\n",
    "#embedding into streamlit\n",
    "st.plotly_chart(fig2)"
   ]
  },
  {
   "cell_type": "code",
   "execution_count": null,
   "metadata": {},
   "outputs": [],
   "source": [
    "st.markdown(\"\"\"\n",
    "###### Glossary:\n",
    "* Simple Rating System (SRS):\n",
    "    * A rating that takes into account average point differential and strength of schedule, separated into offensive and defensive components. The rating is denominated in points above/below average, where zero is average. \n",
    "* Adjusted:\n",
    "    * A rating adjusted for strength of opposition.\n",
    "    * Offensive Rating - an estimate of points scored (for teams) or points produced (for players) per 100 possessions.\n",
    "    * Defensive Rating - an estimate of points allowed per 100 possessions.\n",
    "    * Net Rating - an estimate of point differential per 100 possessions\n",
    "\n",
    "**Non-Division I games are excluded from the ratings.**\n",
    "\"\"\")"
   ]
  },
  {
   "cell_type": "code",
   "execution_count": 88,
   "metadata": {},
   "outputs": [],
   "source": [
    "#cd git_projects/practicum_sprint4_project\n",
    "#streamlit run newapp.py"
   ]
  }
 ],
 "metadata": {
  "kernelspec": {
   "display_name": "base",
   "language": "python",
   "name": "python3"
  },
  "language_info": {
   "codemirror_mode": {
    "name": "ipython",
    "version": 3
   },
   "file_extension": ".py",
   "mimetype": "text/x-python",
   "name": "python",
   "nbconvert_exporter": "python",
   "pygments_lexer": "ipython3",
   "version": "3.9.12"
  },
  "orig_nbformat": 4,
  "vscode": {
   "interpreter": {
    "hash": "1b864f881fac4c134158efd86fddd47dd16525e594e8d01e2704164ddfe0046b"
   }
  }
 },
 "nbformat": 4,
 "nbformat_minor": 2
}

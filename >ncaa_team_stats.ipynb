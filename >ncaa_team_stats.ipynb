{
 "cells": [
  {
   "cell_type": "code",
   "execution_count": 1,
   "metadata": {},
   "outputs": [],
   "source": [
    "import pandas as pd\n",
    "from matplotlib import pyplot as plt\n",
    "import streamlit as st"
   ]
  },
  {
   "cell_type": "code",
   "execution_count": 2,
   "metadata": {},
   "outputs": [
    {
     "name": "stderr",
     "output_type": "stream",
     "text": [
      "/var/folders/61/dg8q01vd63s1rx311g530r400000gn/T/ipykernel_11207/3631578078.py:9: ParserWarning: Length of header or names does not match length of data. This leads to a loss of data with index_col=False.\n",
      "  data = pd.read_csv('http://barttorvik.com/2023_team_results.csv', index_col = False)\n"
     ]
    },
    {
     "data": {
      "text/html": [
       "<div>\n",
       "<style scoped>\n",
       "    .dataframe tbody tr th:only-of-type {\n",
       "        vertical-align: middle;\n",
       "    }\n",
       "\n",
       "    .dataframe tbody tr th {\n",
       "        vertical-align: top;\n",
       "    }\n",
       "\n",
       "    .dataframe thead th {\n",
       "        text-align: right;\n",
       "    }\n",
       "</style>\n",
       "<table border=\"1\" class=\"dataframe\">\n",
       "  <thead>\n",
       "    <tr style=\"text-align: right;\">\n",
       "      <th></th>\n",
       "      <th>rank</th>\n",
       "      <th>team</th>\n",
       "      <th>conf</th>\n",
       "      <th>record</th>\n",
       "      <th>adjoe</th>\n",
       "      <th>oe Rank</th>\n",
       "      <th>adjde</th>\n",
       "      <th>de Rank</th>\n",
       "      <th>barthag</th>\n",
       "      <th>rank.1</th>\n",
       "      <th>...</th>\n",
       "      <th>ConPF</th>\n",
       "      <th>ConPA</th>\n",
       "      <th>ConPoss</th>\n",
       "      <th>ConOE</th>\n",
       "      <th>ConDE</th>\n",
       "      <th>ConSOSRemain</th>\n",
       "      <th>Conf Win%</th>\n",
       "      <th>WAB</th>\n",
       "      <th>WAB Rk</th>\n",
       "      <th>Fun Rk, adjt</th>\n",
       "    </tr>\n",
       "  </thead>\n",
       "  <tbody>\n",
       "    <tr>\n",
       "      <th>0</th>\n",
       "      <td>1</td>\n",
       "      <td>Houston</td>\n",
       "      <td>Amer</td>\n",
       "      <td>27-2</td>\n",
       "      <td>121.487533</td>\n",
       "      <td>3</td>\n",
       "      <td>91.916658</td>\n",
       "      <td>7</td>\n",
       "      <td>0.961123</td>\n",
       "      <td>1</td>\n",
       "      <td>...</td>\n",
       "      <td>1242.0</td>\n",
       "      <td>973.0</td>\n",
       "      <td>1035.3375</td>\n",
       "      <td>1.199609</td>\n",
       "      <td>0.939790</td>\n",
       "      <td>0.768637</td>\n",
       "      <td>0.937500</td>\n",
       "      <td>7.038925</td>\n",
       "      <td>3</td>\n",
       "      <td>115</td>\n",
       "    </tr>\n",
       "    <tr>\n",
       "      <th>1</th>\n",
       "      <td>2</td>\n",
       "      <td>Alabama</td>\n",
       "      <td>SEC</td>\n",
       "      <td>25-4</td>\n",
       "      <td>118.450875</td>\n",
       "      <td>13</td>\n",
       "      <td>91.474862</td>\n",
       "      <td>5</td>\n",
       "      <td>0.951293</td>\n",
       "      <td>2</td>\n",
       "      <td>...</td>\n",
       "      <td>1344.0</td>\n",
       "      <td>1046.0</td>\n",
       "      <td>1167.5000</td>\n",
       "      <td>1.151178</td>\n",
       "      <td>0.895931</td>\n",
       "      <td>0.871818</td>\n",
       "      <td>0.937500</td>\n",
       "      <td>8.565746</td>\n",
       "      <td>2</td>\n",
       "      <td>64</td>\n",
       "    </tr>\n",
       "    <tr>\n",
       "      <th>2</th>\n",
       "      <td>3</td>\n",
       "      <td>UCLA</td>\n",
       "      <td>P12</td>\n",
       "      <td>25-4</td>\n",
       "      <td>114.635604</td>\n",
       "      <td>30</td>\n",
       "      <td>89.898718</td>\n",
       "      <td>2</td>\n",
       "      <td>0.942425</td>\n",
       "      <td>3</td>\n",
       "      <td>...</td>\n",
       "      <td>1239.0</td>\n",
       "      <td>1052.0</td>\n",
       "      <td>1162.3625</td>\n",
       "      <td>1.065933</td>\n",
       "      <td>0.905053</td>\n",
       "      <td>0.797730</td>\n",
       "      <td>0.888889</td>\n",
       "      <td>6.772666</td>\n",
       "      <td>4</td>\n",
       "      <td>110</td>\n",
       "    </tr>\n",
       "    <tr>\n",
       "      <th>3</th>\n",
       "      <td>4</td>\n",
       "      <td>Tennessee</td>\n",
       "      <td>SEC</td>\n",
       "      <td>21-8</td>\n",
       "      <td>112.004033</td>\n",
       "      <td>60</td>\n",
       "      <td>87.952205</td>\n",
       "      <td>1</td>\n",
       "      <td>0.941587</td>\n",
       "      <td>4</td>\n",
       "      <td>...</td>\n",
       "      <td>1105.0</td>\n",
       "      <td>941.0</td>\n",
       "      <td>1032.9875</td>\n",
       "      <td>1.069713</td>\n",
       "      <td>0.910950</td>\n",
       "      <td>0.882127</td>\n",
       "      <td>0.625000</td>\n",
       "      <td>2.975169</td>\n",
       "      <td>22</td>\n",
       "      <td>345</td>\n",
       "    </tr>\n",
       "    <tr>\n",
       "      <th>4</th>\n",
       "      <td>5</td>\n",
       "      <td>Purdue</td>\n",
       "      <td>B10</td>\n",
       "      <td>24-5</td>\n",
       "      <td>119.105581</td>\n",
       "      <td>12</td>\n",
       "      <td>94.514473</td>\n",
       "      <td>15</td>\n",
       "      <td>0.934592</td>\n",
       "      <td>5</td>\n",
       "      <td>...</td>\n",
       "      <td>1279.0</td>\n",
       "      <td>1150.0</td>\n",
       "      <td>1148.9375</td>\n",
       "      <td>1.113202</td>\n",
       "      <td>1.000925</td>\n",
       "      <td>0.792134</td>\n",
       "      <td>0.722222</td>\n",
       "      <td>6.443814</td>\n",
       "      <td>5</td>\n",
       "      <td>120</td>\n",
       "    </tr>\n",
       "  </tbody>\n",
       "</table>\n",
       "<p>5 rows × 44 columns</p>\n",
       "</div>"
      ],
      "text/plain": [
       "   rank       team  conf record       adjoe  oe Rank      adjde  de Rank  \\\n",
       "0     1    Houston  Amer   27-2  121.487533        3  91.916658        7   \n",
       "1     2    Alabama   SEC   25-4  118.450875       13  91.474862        5   \n",
       "2     3       UCLA   P12   25-4  114.635604       30  89.898718        2   \n",
       "3     4  Tennessee   SEC   21-8  112.004033       60  87.952205        1   \n",
       "4     5     Purdue   B10   24-5  119.105581       12  94.514473       15   \n",
       "\n",
       "    barthag  rank.1  ...   ConPF   ConPA    ConPoss     ConOE     ConDE  \\\n",
       "0  0.961123       1  ...  1242.0   973.0  1035.3375  1.199609  0.939790   \n",
       "1  0.951293       2  ...  1344.0  1046.0  1167.5000  1.151178  0.895931   \n",
       "2  0.942425       3  ...  1239.0  1052.0  1162.3625  1.065933  0.905053   \n",
       "3  0.941587       4  ...  1105.0   941.0  1032.9875  1.069713  0.910950   \n",
       "4  0.934592       5  ...  1279.0  1150.0  1148.9375  1.113202  1.000925   \n",
       "\n",
       "   ConSOSRemain  Conf Win%       WAB  WAB Rk  Fun Rk, adjt  \n",
       "0      0.768637   0.937500  7.038925       3           115  \n",
       "1      0.871818   0.937500  8.565746       2            64  \n",
       "2      0.797730   0.888889  6.772666       4           110  \n",
       "3      0.882127   0.625000  2.975169      22           345  \n",
       "4      0.792134   0.722222  6.443814       5           120  \n",
       "\n",
       "[5 rows x 44 columns]"
      ]
     },
     "execution_count": 2,
     "metadata": {},
     "output_type": "execute_result"
    }
   ],
   "source": [
    "# Load data from https://barttorvik.com/trank.php#\n",
    "# http://barttorvik.com/2023_team_results.csv\n",
    "#data = pd.read_csv('/Users/laceymalarky/Downloads/2023_team_results.csv', index_col=False)\n",
    "\n",
    "#url = 'http://barttorvik.com/2023_team_results.csv'\n",
    "#response = requests.get(url).content \n",
    "#data_test = pd.read_csv(io.StringIO(response.decode('utf-8')))\n",
    "\n",
    "data = pd.read_csv('http://barttorvik.com/2023_team_results.csv', index_col = False)\n",
    "data.head()\n"
   ]
  },
  {
   "cell_type": "code",
   "execution_count": 3,
   "metadata": {},
   "outputs": [
    {
     "data": {
      "text/plain": [
       "(363, 44)"
      ]
     },
     "execution_count": 3,
     "metadata": {},
     "output_type": "execute_result"
    }
   ],
   "source": [
    "data.shape"
   ]
  },
  {
   "cell_type": "code",
   "execution_count": 4,
   "metadata": {},
   "outputs": [
    {
     "name": "stdout",
     "output_type": "stream",
     "text": [
      "<class 'pandas.core.frame.DataFrame'>\n",
      "RangeIndex: 363 entries, 0 to 362\n",
      "Data columns (total 44 columns):\n",
      " #   Column            Non-Null Count  Dtype  \n",
      "---  ------            --------------  -----  \n",
      " 0   rank              363 non-null    int64  \n",
      " 1   team              363 non-null    object \n",
      " 2   conf              363 non-null    object \n",
      " 3   record            363 non-null    object \n",
      " 4   adjoe             363 non-null    float64\n",
      " 5   oe Rank           363 non-null    int64  \n",
      " 6   adjde             363 non-null    float64\n",
      " 7   de Rank           363 non-null    int64  \n",
      " 8   barthag           363 non-null    float64\n",
      " 9   rank.1            363 non-null    int64  \n",
      " 10  proj. W           363 non-null    float64\n",
      " 11  Proj. L           363 non-null    float64\n",
      " 12  Pro Con W         363 non-null    float64\n",
      " 13  Pro Con L         363 non-null    float64\n",
      " 14  Con Rec.          363 non-null    object \n",
      " 15  sos               363 non-null    float64\n",
      " 16  ncsos             363 non-null    float64\n",
      " 17  consos            363 non-null    float64\n",
      " 18  Proj. SOS         363 non-null    float64\n",
      " 19  Proj. Noncon SOS  363 non-null    float64\n",
      " 20  Proj. Con SOS     363 non-null    float64\n",
      " 21  elite SOS         363 non-null    float64\n",
      " 22  elite noncon SOS  363 non-null    float64\n",
      " 23  Opp OE            363 non-null    float64\n",
      " 24  Opp DE            363 non-null    float64\n",
      " 25  Opp Proj. OE      363 non-null    float64\n",
      " 26  Opp Proj DE       363 non-null    float64\n",
      " 27  Con Adj OE        363 non-null    float64\n",
      " 28  Con Adj DE        363 non-null    float64\n",
      " 29  Qual O            363 non-null    float64\n",
      " 30  Qual D            363 non-null    float64\n",
      " 31  Qual Barthag      363 non-null    float64\n",
      " 32  Qual Games        363 non-null    int64  \n",
      " 33  FUN               363 non-null    float64\n",
      " 34  ConPF             363 non-null    float64\n",
      " 35  ConPA             363 non-null    float64\n",
      " 36  ConPoss           363 non-null    float64\n",
      " 37  ConOE             363 non-null    float64\n",
      " 38  ConDE             363 non-null    float64\n",
      " 39  ConSOSRemain      363 non-null    float64\n",
      " 40  Conf Win%         363 non-null    float64\n",
      " 41  WAB               363 non-null    float64\n",
      " 42  WAB Rk            363 non-null    int64  \n",
      " 43  Fun Rk, adjt      363 non-null    int64  \n",
      "dtypes: float64(33), int64(7), object(4)\n",
      "memory usage: 124.9+ KB\n"
     ]
    }
   ],
   "source": [
    "data.info()"
   ]
  },
  {
   "cell_type": "code",
   "execution_count": 5,
   "metadata": {},
   "outputs": [
    {
     "data": {
      "text/plain": [
       "Index(['rank', 'team', 'conf', 'record', 'adjoe', 'oe Rank', 'adjde',\n",
       "       'de Rank', 'barthag', 'rank.1', 'proj. W', 'Proj. L', 'Pro Con W',\n",
       "       'Pro Con L', 'Con Rec.', 'sos', 'ncsos', 'consos', 'Proj. SOS',\n",
       "       'Proj. Noncon SOS', 'Proj. Con SOS', 'elite SOS', 'elite noncon SOS',\n",
       "       'Opp OE', 'Opp DE', 'Opp Proj. OE', 'Opp Proj DE', 'Con Adj OE',\n",
       "       'Con Adj DE', 'Qual O', 'Qual D', 'Qual Barthag', 'Qual Games', 'FUN',\n",
       "       'ConPF', 'ConPA', 'ConPoss', 'ConOE', 'ConDE', 'ConSOSRemain',\n",
       "       'Conf Win%', 'WAB', 'WAB Rk', 'Fun Rk, adjt'],\n",
       "      dtype='object')"
      ]
     },
     "execution_count": 5,
     "metadata": {},
     "output_type": "execute_result"
    }
   ],
   "source": [
    "data.columns"
   ]
  },
  {
   "cell_type": "code",
   "execution_count": 6,
   "metadata": {},
   "outputs": [],
   "source": [
    "#Filter dataframe for only certain cols\n",
    "data = data[['rank', 'team', 'conf', 'record', 'adjoe', 'adjde',\n",
    "       'sos', 'consos', 'Conf Win%', 'Fun Rk, adjt']]"
   ]
  },
  {
   "cell_type": "code",
   "execution_count": 7,
   "metadata": {},
   "outputs": [
    {
     "data": {
      "text/plain": [
       "<AxesSubplot:xlabel='adjoe', ylabel='adjde'>"
      ]
     },
     "execution_count": 7,
     "metadata": {},
     "output_type": "execute_result"
    },
    {
     "data": {
      "image/png": "[encoded data removed]",
      "text/plain": [
       "<Figure size 432x288 with 1 Axes>"
      ]
     },
     "metadata": {
      "needs_background": "light"
     },
     "output_type": "display_data"
    }
   ],
   "source": [
    "# Create a scatterplot of offense vs defense\n",
    "data.plot(x = 'adjoe', y = 'adjde', kind = 'scatter')"
   ]
  },
  {
   "cell_type": "code",
   "execution_count": 8,
   "metadata": {},
   "outputs": [
    {
     "data": {
      "text/plain": [
       "-0.5035986998748294"
      ]
     },
     "execution_count": 8,
     "metadata": {},
     "output_type": "execute_result"
    }
   ],
   "source": [
    "# Test correlation for fun\n",
    "data['adjoe'].corr(data['adjde'])"
   ]
  },
  {
   "cell_type": "code",
   "execution_count": 9,
   "metadata": {},
   "outputs": [
    {
     "data": {
      "text/plain": [
       "array(['Amer', 'SEC', 'P12', 'B10', 'WCC', 'BE', 'MWC', 'B12', 'ACC',\n",
       "       'ASun', 'CUSA', 'A10', 'MVC', 'CAA', 'MAAC', 'WAC', 'Sum', 'MAC',\n",
       "       'Ivy', 'SB', 'SC', 'BW', 'AE', 'BSky', 'Pat', 'Horz', 'BSth',\n",
       "       'SWAC', 'MEAC', 'Slnd', 'OVC', 'NEC', 'ind'], dtype=object)"
      ]
     },
     "execution_count": 9,
     "metadata": {},
     "output_type": "execute_result"
    }
   ],
   "source": [
    "# List of unique conferences\n",
    "data['conf'].unique()"
   ]
  },
  {
   "cell_type": "code",
   "execution_count": 10,
   "metadata": {},
   "outputs": [
    {
     "name": "stderr",
     "output_type": "stream",
     "text": [
      "2023-02-27 18:57:18.551 \n",
      "  \u001b[33m\u001b[1mWarning:\u001b[0m to view this Streamlit app on a browser, run it with the following\n",
      "  command:\n",
      "\n",
      "    streamlit run /Users/laceymalarky/opt/anaconda3/lib/python3.9/site-packages/ipykernel_launcher.py [ARGUMENTS]\n"
     ]
    }
   ],
   "source": [
    "#creating header with an option to filter the data and the checkbox:\n",
    "#dataset includes all teams but this will let users decide whether they want\n",
    "#to see all teams or just those in the top 10 conferences\n",
    "\n",
    "st.header(\"NCAA Men's Backetball Statistics\")\n",
    "st.write(\"\"\"\n",
    "##### Filter the data below to see only team in the top 10 conferences\n",
    "\"\"\")\n",
    "conf_top_10 = st.checkbox('Top 10 Conferences Only')\n"
   ]
  },
  {
   "cell_type": "code",
   "execution_count": 11,
   "metadata": {},
   "outputs": [
    {
     "data": {
      "text/plain": [
       "False"
      ]
     },
     "execution_count": 11,
     "metadata": {},
     "output_type": "execute_result"
    }
   ],
   "source": [
    "conf_top_10"
   ]
  },
  {
   "cell_type": "code",
   "execution_count": 12,
   "metadata": {},
   "outputs": [],
   "source": [
    "top10_conf = ['B12', 'SEC', 'B10', 'BE', 'P12', 'ACC', 'MWC', 'Amer', 'WCC', 'A10']\n",
    "\n",
    "if not conf_top_10:\n",
    "    data = data.query('conf in @top10_conf')"
   ]
  },
  {
   "cell_type": "code",
   "execution_count": 13,
   "metadata": {},
   "outputs": [],
   "source": [
    "#creating options for filter from all teams and different years\n",
    "team_choice = data['team'].unique()\n",
    "make_choice_team = st.selectbox('Select team:', team_choice)"
   ]
  },
  {
   "cell_type": "code",
   "execution_count": 14,
   "metadata": {},
   "outputs": [
    {
     "data": {
      "text/plain": [
       "'Houston'"
      ]
     },
     "execution_count": 14,
     "metadata": {},
     "output_type": "execute_result"
    }
   ],
   "source": [
    "make_choice_team"
   ]
  },
  {
   "cell_type": "code",
   "execution_count": 15,
   "metadata": {},
   "outputs": [
    {
     "data": {
      "text/plain": [
       "DeltaGenerator(_root_container=0, _provided_cursor=None, _parent=None, _block_type=None, _form_data=None)"
      ]
     },
     "execution_count": 15,
     "metadata": {},
     "output_type": "execute_result"
    }
   ],
   "source": [
    "#filtering dataset on chosen team and ...\n",
    "filtered_type=data[(data.team==make_choice_team)]\n",
    "\n",
    "#showing the final table in streamlit\n",
    "st.table(filtered_type)"
   ]
  },
  {
   "cell_type": "code",
   "execution_count": 16,
   "metadata": {},
   "outputs": [
    {
     "data": {
      "text/html": [
       "<div>\n",
       "<style scoped>\n",
       "    .dataframe tbody tr th:only-of-type {\n",
       "        vertical-align: middle;\n",
       "    }\n",
       "\n",
       "    .dataframe tbody tr th {\n",
       "        vertical-align: top;\n",
       "    }\n",
       "\n",
       "    .dataframe thead th {\n",
       "        text-align: right;\n",
       "    }\n",
       "</style>\n",
       "<table border=\"1\" class=\"dataframe\">\n",
       "  <thead>\n",
       "    <tr style=\"text-align: right;\">\n",
       "      <th></th>\n",
       "      <th>rank</th>\n",
       "      <th>team</th>\n",
       "      <th>conf</th>\n",
       "      <th>record</th>\n",
       "      <th>adjoe</th>\n",
       "      <th>adjde</th>\n",
       "      <th>sos</th>\n",
       "      <th>consos</th>\n",
       "      <th>Conf Win%</th>\n",
       "      <th>Fun Rk, adjt</th>\n",
       "    </tr>\n",
       "  </thead>\n",
       "  <tbody>\n",
       "    <tr>\n",
       "      <th>0</th>\n",
       "      <td>1</td>\n",
       "      <td>Houston</td>\n",
       "      <td>Amer</td>\n",
       "      <td>27-2</td>\n",
       "      <td>121.487533</td>\n",
       "      <td>91.916658</td>\n",
       "      <td>0.588987</td>\n",
       "      <td>0.635124</td>\n",
       "      <td>0.937500</td>\n",
       "      <td>115</td>\n",
       "    </tr>\n",
       "    <tr>\n",
       "      <th>1</th>\n",
       "      <td>2</td>\n",
       "      <td>Alabama</td>\n",
       "      <td>SEC</td>\n",
       "      <td>25-4</td>\n",
       "      <td>118.450875</td>\n",
       "      <td>91.474862</td>\n",
       "      <td>0.711078</td>\n",
       "      <td>0.723820</td>\n",
       "      <td>0.937500</td>\n",
       "      <td>64</td>\n",
       "    </tr>\n",
       "    <tr>\n",
       "      <th>2</th>\n",
       "      <td>3</td>\n",
       "      <td>UCLA</td>\n",
       "      <td>P12</td>\n",
       "      <td>25-4</td>\n",
       "      <td>114.635604</td>\n",
       "      <td>89.898718</td>\n",
       "      <td>0.655903</td>\n",
       "      <td>0.727374</td>\n",
       "      <td>0.888889</td>\n",
       "      <td>110</td>\n",
       "    </tr>\n",
       "    <tr>\n",
       "      <th>3</th>\n",
       "      <td>4</td>\n",
       "      <td>Tennessee</td>\n",
       "      <td>SEC</td>\n",
       "      <td>21-8</td>\n",
       "      <td>112.004033</td>\n",
       "      <td>87.952205</td>\n",
       "      <td>0.649181</td>\n",
       "      <td>0.720633</td>\n",
       "      <td>0.625000</td>\n",
       "      <td>345</td>\n",
       "    </tr>\n",
       "    <tr>\n",
       "      <th>4</th>\n",
       "      <td>5</td>\n",
       "      <td>Purdue</td>\n",
       "      <td>B10</td>\n",
       "      <td>24-5</td>\n",
       "      <td>119.105581</td>\n",
       "      <td>94.514473</td>\n",
       "      <td>0.672440</td>\n",
       "      <td>0.756215</td>\n",
       "      <td>0.722222</td>\n",
       "      <td>120</td>\n",
       "    </tr>\n",
       "    <tr>\n",
       "      <th>...</th>\n",
       "      <td>...</td>\n",
       "      <td>...</td>\n",
       "      <td>...</td>\n",
       "      <td>...</td>\n",
       "      <td>...</td>\n",
       "      <td>...</td>\n",
       "      <td>...</td>\n",
       "      <td>...</td>\n",
       "      <td>...</td>\n",
       "      <td>...</td>\n",
       "    </tr>\n",
       "    <tr>\n",
       "      <th>231</th>\n",
       "      <td>232</td>\n",
       "      <td>Loyola Chicago</td>\n",
       "      <td>A10</td>\n",
       "      <td>9-19</td>\n",
       "      <td>102.151734</td>\n",
       "      <td>107.001916</td>\n",
       "      <td>0.523122</td>\n",
       "      <td>0.583247</td>\n",
       "      <td>0.187500</td>\n",
       "      <td>306</td>\n",
       "    </tr>\n",
       "    <tr>\n",
       "      <th>234</th>\n",
       "      <td>235</td>\n",
       "      <td>Minnesota</td>\n",
       "      <td>B10</td>\n",
       "      <td>7-20</td>\n",
       "      <td>100.254256</td>\n",
       "      <td>105.139620</td>\n",
       "      <td>0.661055</td>\n",
       "      <td>0.814977</td>\n",
       "      <td>0.058824</td>\n",
       "      <td>221</td>\n",
       "    </tr>\n",
       "    <tr>\n",
       "      <th>264</th>\n",
       "      <td>265</td>\n",
       "      <td>California</td>\n",
       "      <td>P12</td>\n",
       "      <td>3-26</td>\n",
       "      <td>97.883706</td>\n",
       "      <td>105.368682</td>\n",
       "      <td>0.681525</td>\n",
       "      <td>0.755707</td>\n",
       "      <td>0.111111</td>\n",
       "      <td>352</td>\n",
       "    </tr>\n",
       "    <tr>\n",
       "      <th>271</th>\n",
       "      <td>272</td>\n",
       "      <td>Louisville</td>\n",
       "      <td>ACC</td>\n",
       "      <td>4-25</td>\n",
       "      <td>102.125043</td>\n",
       "      <td>110.279838</td>\n",
       "      <td>0.643998</td>\n",
       "      <td>0.686941</td>\n",
       "      <td>0.111111</td>\n",
       "      <td>342</td>\n",
       "    </tr>\n",
       "    <tr>\n",
       "      <th>292</th>\n",
       "      <td>293</td>\n",
       "      <td>Tulsa</td>\n",
       "      <td>Amer</td>\n",
       "      <td>5-23</td>\n",
       "      <td>100.801322</td>\n",
       "      <td>110.672456</td>\n",
       "      <td>0.591950</td>\n",
       "      <td>0.692649</td>\n",
       "      <td>0.058824</td>\n",
       "      <td>316</td>\n",
       "    </tr>\n",
       "  </tbody>\n",
       "</table>\n",
       "<p>123 rows × 10 columns</p>\n",
       "</div>"
      ],
      "text/plain": [
       "     rank            team  conf record       adjoe       adjde       sos  \\\n",
       "0       1         Houston  Amer   27-2  121.487533   91.916658  0.588987   \n",
       "1       2         Alabama   SEC   25-4  118.450875   91.474862  0.711078   \n",
       "2       3            UCLA   P12   25-4  114.635604   89.898718  0.655903   \n",
       "3       4       Tennessee   SEC   21-8  112.004033   87.952205  0.649181   \n",
       "4       5          Purdue   B10   24-5  119.105581   94.514473  0.672440   \n",
       "..    ...             ...   ...    ...         ...         ...       ...   \n",
       "231   232  Loyola Chicago   A10   9-19  102.151734  107.001916  0.523122   \n",
       "234   235       Minnesota   B10   7-20  100.254256  105.139620  0.661055   \n",
       "264   265      California   P12   3-26   97.883706  105.368682  0.681525   \n",
       "271   272      Louisville   ACC   4-25  102.125043  110.279838  0.643998   \n",
       "292   293           Tulsa  Amer   5-23  100.801322  110.672456  0.591950   \n",
       "\n",
       "       consos  Conf Win%  Fun Rk, adjt  \n",
       "0    0.635124   0.937500           115  \n",
       "1    0.723820   0.937500            64  \n",
       "2    0.727374   0.888889           110  \n",
       "3    0.720633   0.625000           345  \n",
       "4    0.756215   0.722222           120  \n",
       "..        ...        ...           ...  \n",
       "231  0.583247   0.187500           306  \n",
       "234  0.814977   0.058824           221  \n",
       "264  0.755707   0.111111           352  \n",
       "271  0.686941   0.111111           342  \n",
       "292  0.692649   0.058824           316  \n",
       "\n",
       "[123 rows x 10 columns]"
      ]
     },
     "execution_count": 16,
     "metadata": {},
     "output_type": "execute_result"
    }
   ],
   "source": [
    "data"
   ]
  },
  {
   "cell_type": "code",
   "execution_count": 23,
   "metadata": {},
   "outputs": [
    {
     "data": {
      "text/plain": [
       "DeltaGenerator(_root_container=0, _provided_cursor=None, _parent=None, _block_type=None, _form_data=None)"
      ]
     },
     "execution_count": 23,
     "metadata": {},
     "output_type": "execute_result"
    }
   ],
   "source": [
    "st.header('Team analysis')\n",
    "st.write(\"\"\"\n",
    "###### Let's analyze what influences price the most. We will check how distibution of price varies depending on \n",
    "transmission, engine or body type and state\n",
    "\"\"\")\n",
    "\n",
    "import plotly.express as px\n",
    "\n",
    "# Will create histograms with the split by parameter of choice: color, transmission, engine_type, body_type, state\n",
    "\n",
    "#creating list of options to choose from\n",
    "list_for_hist=['Conf Win%','consos']\n",
    "\n",
    "#creating selectbox\n",
    "choice_for_hist = st.selectbox('Split for price distribution', list_for_hist)\n",
    "\n",
    "#plotly histogram, where price_usd is split by the choice made in the selectbox\n",
    "fig1 = px.histogram(data, x=choice_for_hist)\n",
    "\n",
    "#adding tittle\n",
    "fig1.update_layout(\n",
    "title=\"<b> Split of price by {}</b>\".format(choice_for_hist))\n",
    "\n",
    "#embedding into streamlit\n",
    "st.plotly_chart(fig1)"
   ]
  },
  {
   "cell_type": "code",
   "execution_count": 24,
   "metadata": {},
   "outputs": [
    {
     "data": {
      "application/vnd.plotly.v1+json": {
       "config": {
        "plotlyServerURL": "https://plot.ly"
       },
       "data": [
        {
         "alignmentgroup": "True",
         "bingroup": "x",
         "hovertemplate": "Conf Win%=%{x}<br>count=%{y}<extra></extra>",
         "legendgroup": "",
         "marker": {
          "color": "#000001",
          "pattern": {
           "shape": ""
          }
         },
         "name": "",
         "offsetgroup": "",
         "orientation": "v",
         "showlegend": false,
         "type": "histogram",
         "x": [
          0.9375,
          0.9375,
          0.8888888888888888,
          0.625,
          0.7222222222222222,
          0.875,
          0.6111111111111112,
          0.875,
          0.7222222222222222,
          0.875,
          0.75,
          0.625,
          0.6875,
          0.5,
          0.6666666666666666,
          0.8333333333333334,
          0.8125,
          0.7222222222222222,
          0.3125,
          0.625,
          0.5,
          0.5,
          0.5625,
          0.6111111111111112,
          0.75,
          0.5294117647058824,
          0.6111111111111112,
          0.6875,
          0.75,
          0.6666666666666666,
          0.5555555555555556,
          0.4375,
          0.7222222222222222,
          0.7222222222222222,
          0.7222222222222222,
          0.6875,
          0.7368421052631579,
          0.6111111111111112,
          0.4375,
          0.4375,
          0.5555555555555556,
          0.5882352941176471,
          0.75,
          0.5555555555555556,
          0.6111111111111112,
          0.3125,
          0.631578947368421,
          0.4444444444444444,
          0.5555555555555556,
          0.5625,
          0.5263157894736842,
          0.5555555555555556,
          0.25,
          0.7222222222222222,
          0.5263157894736842,
          0.6875,
          0.4375,
          0.7777777777777778,
          0.4444444444444444,
          0.2222222222222222,
          0.8125,
          0.5,
          0.6111111111111112,
          0.5555555555555556,
          0.5,
          0.6875,
          0.4375,
          0.4375,
          0.3684210526315789,
          0.3333333333333333,
          0.5625,
          0.6666666666666666,
          0.375,
          0.5,
          0.3333333333333333,
          0.3684210526315789,
          0.5625,
          0.5625,
          0.5,
          0.6875,
          0.4375,
          0.4444444444444444,
          0.4210526315789473,
          0.3125,
          0.1875,
          0.5625,
          0.375,
          0.5,
          0.3333333333333333,
          0.4375,
          0.3529411764705882,
          0.2941176470588235,
          0.375,
          0.1111111111111111,
          0.1875,
          0.1666666666666666,
          0.5625,
          0.3125,
          0.6875,
          0.4444444444444444,
          0.125,
          0.3125,
          0.4375,
          0.4705882352941176,
          0.4375,
          0.2222222222222222,
          0.1052631578947368,
          0.4117647058823529,
          0.125,
          0.5625,
          0.3888888888888889,
          0.3125,
          0.25,
          0.3333333333333333,
          0.4375,
          0.2222222222222222,
          0.25,
          0.1875,
          0.1875,
          0.0588235294117647,
          0.1111111111111111,
          0.1111111111111111,
          0.0588235294117647
         ],
         "xaxis": "x",
         "yaxis": "y"
        }
       ],
       "layout": {
        "barmode": "relative",
        "legend": {
         "tracegroupgap": 0
        },
        "margin": {
         "t": 60
        },
        "template": {
         "data": {
          "candlestick": [
           {
            "decreasing": {
             "line": {
              "color": "#000033"
             }
            },
            "increasing": {
             "line": {
              "color": "#000032"
             }
            },
            "type": "candlestick"
           }
          ],
          "contour": [
           {
            "colorscale": [
             [
              0,
              "#000011"
             ],
             [
              0.1111111111111111,
              "#000012"
             ],
             [
              0.2222222222222222,
              "#000013"
             ],
             [
              0.3333333333333333,
              "#000014"
             ],
             [
              0.4444444444444444,
              "#000015"
             ],
             [
              0.5555555555555556,
              "#000016"
             ],
             [
              0.6666666666666666,
              "#000017"
             ],
             [
              0.7777777777777778,
              "#000018"
             ],
             [
              0.8888888888888888,
              "#000019"
             ],
             [
              1,
              "#000020"
             ]
            ],
            "type": "contour"
           }
          ],
          "contourcarpet": [
           {
            "colorscale": [
             [
              0,
              "#000011"
             ],
             [
              0.1111111111111111,
              "#000012"
             ],
             [
              0.2222222222222222,
              "#000013"
             ],
             [
              0.3333333333333333,
              "#000014"
             ],
             [
              0.4444444444444444,
              "#000015"
             ],
             [
              0.5555555555555556,
              "#000016"
             ],
             [
              0.6666666666666666,
              "#000017"
             ],
             [
              0.7777777777777778,
              "#000018"
             ],
             [
              0.8888888888888888,
              "#000019"
             ],
             [
              1,
              "#000020"
             ]
            ],
            "type": "contourcarpet"
           }
          ],
          "heatmap": [
           {
            "colorscale": [
             [
              0,
              "#000011"
             ],
             [
              0.1111111111111111,
              "#000012"
             ],
             [
              0.2222222222222222,
              "#000013"
             ],
             [
              0.3333333333333333,
              "#000014"
             ],
             [
              0.4444444444444444,
              "#000015"
             ],
             [
              0.5555555555555556,
              "#000016"
             ],
             [
              0.6666666666666666,
              "#000017"
             ],
             [
              0.7777777777777778,
              "#000018"
             ],
             [
              0.8888888888888888,
              "#000019"
             ],
             [
              1,
              "#000020"
             ]
            ],
            "type": "heatmap"
           }
          ],
          "histogram2d": [
           {
            "colorscale": [
             [
              0,
              "#000011"
             ],
             [
              0.1111111111111111,
              "#000012"
             ],
             [
              0.2222222222222222,
              "#000013"
             ],
             [
              0.3333333333333333,
              "#000014"
             ],
             [
              0.4444444444444444,
              "#000015"
             ],
             [
              0.5555555555555556,
              "#000016"
             ],
             [
              0.6666666666666666,
              "#000017"
             ],
             [
              0.7777777777777778,
              "#000018"
             ],
             [
              0.8888888888888888,
              "#000019"
             ],
             [
              1,
              "#000020"
             ]
            ],
            "type": "histogram2d"
           }
          ],
          "icicle": [
           {
            "textfont": {
             "color": "white"
            },
            "type": "icicle"
           }
          ],
          "sankey": [
           {
            "textfont": {
             "color": "#000036"
            },
            "type": "sankey"
           }
          ],
          "scatter": [
           {
            "marker": {
             "line": {
              "width": 0
             }
            },
            "type": "scatter"
           }
          ],
          "table": [
           {
            "cells": {
             "fill": {
              "color": "#000038"
             },
             "font": {
              "color": "#000037"
             },
             "line": {
              "color": "#000039"
             }
            },
            "header": {
             "fill": {
              "color": "#000040"
             },
             "font": {
              "color": "#000036"
             },
             "line": {
              "color": "#000039"
             }
            },
            "type": "table"
           }
          ],
          "waterfall": [
           {
            "connector": {
             "line": {
              "color": "#000036",
              "width": 2
             }
            },
            "decreasing": {
             "marker": {
              "color": "#000033"
             }
            },
            "increasing": {
             "marker": {
              "color": "#000032"
             }
            },
            "totals": {
             "marker": {
              "color": "#000034"
             }
            },
            "type": "waterfall"
           }
          ]
         },
         "layout": {
          "coloraxis": {
           "colorscale": [
            [
             0,
             "#000011"
            ],
            [
             0.1111111111111111,
             "#000012"
            ],
            [
             0.2222222222222222,
             "#000013"
            ],
            [
             0.3333333333333333,
             "#000014"
            ],
            [
             0.4444444444444444,
             "#000015"
            ],
            [
             0.5555555555555556,
             "#000016"
            ],
            [
             0.6666666666666666,
             "#000017"
            ],
            [
             0.7777777777777778,
             "#000018"
            ],
            [
             0.8888888888888888,
             "#000019"
            ],
            [
             1,
             "#000020"
            ]
           ]
          },
          "colorscale": {
           "diverging": [
            [
             0,
             "#000021"
            ],
            [
             0.1,
             "#000022"
            ],
            [
             0.2,
             "#000023"
            ],
            [
             0.3,
             "#000024"
            ],
            [
             0.4,
             "#000025"
            ],
            [
             0.5,
             "#000026"
            ],
            [
             0.6,
             "#000027"
            ],
            [
             0.7,
             "#000028"
            ],
            [
             0.8,
             "#000029"
            ],
            [
             0.9,
             "#000030"
            ],
            [
             1,
             "#000031"
            ]
           ],
           "sequential": [
            [
             0,
             "#000011"
            ],
            [
             0.1111111111111111,
             "#000012"
            ],
            [
             0.2222222222222222,
             "#000013"
            ],
            [
             0.3333333333333333,
             "#000014"
            ],
            [
             0.4444444444444444,
             "#000015"
            ],
            [
             0.5555555555555556,
             "#000016"
            ],
            [
             0.6666666666666666,
             "#000017"
            ],
            [
             0.7777777777777778,
             "#000018"
            ],
            [
             0.8888888888888888,
             "#000019"
            ],
            [
             1,
             "#000020"
            ]
           ],
           "sequentialminus": [
            [
             0,
             "#000011"
            ],
            [
             0.1111111111111111,
             "#000012"
            ],
            [
             0.2222222222222222,
             "#000013"
            ],
            [
             0.3333333333333333,
             "#000014"
            ],
            [
             0.4444444444444444,
             "#000015"
            ],
            [
             0.5555555555555556,
             "#000016"
            ],
            [
             0.6666666666666666,
             "#000017"
            ],
            [
             0.7777777777777778,
             "#000018"
            ],
            [
             0.8888888888888888,
             "#000019"
            ],
            [
             1,
             "#000020"
            ]
           ]
          },
          "colorway": [
           "#000001",
           "#000002",
           "#000003",
           "#000004",
           "#000005",
           "#000006",
           "#000007",
           "#000008",
           "#000009",
           "#000010"
          ]
         }
        },
        "title": {
         "text": "<b> Split of price by Conf Win%</b>"
        },
        "xaxis": {
         "anchor": "y",
         "domain": [
          0,
          1
         ],
         "title": {
          "text": "Conf Win%"
         }
        },
        "yaxis": {
         "anchor": "x",
         "domain": [
          0,
          1
         ],
         "title": {
          "text": "count"
         }
        }
       }
      }
     },
     "metadata": {},
     "output_type": "display_data"
    }
   ],
   "source": [
    "fig1.show()"
   ]
  },
  {
   "cell_type": "code",
   "execution_count": 25,
   "metadata": {},
   "outputs": [
    {
     "data": {
      "text/plain": [
       "DeltaGenerator(_root_container=0, _provided_cursor=None, _parent=None, _block_type=None, _form_data=None)"
      ]
     },
     "execution_count": 25,
     "metadata": {},
     "output_type": "execute_result"
    }
   ],
   "source": [
    "st.write(\"\"\"\n",
    "###### Now let's check how price is affected by odometer, engine capacity or number of photos in the adds\n",
    "\"\"\")\n",
    "\n",
    "#Distribution of price depending on odometer_value,engine_capacity,number_of_photos\n",
    "#with the split by age category\n",
    "\n",
    "#list_for_scatter=['odometer_value','engine_capacity','number_of_photos']\n",
    "#choice_for_scatter = st.selectbox('Price dependency on ', list_for_scatter)\n",
    "fig2 = px.scatter(data, x=\"adjoe\", y='adjde',hover_data=['team'])\n",
    "\n",
    "fig2.update_layout(\n",
    "title=\"<b> Offense vs Defense</b>\")\n",
    "st.plotly_chart(fig2)"
   ]
  },
  {
   "cell_type": "code",
   "execution_count": 26,
   "metadata": {},
   "outputs": [
    {
     "data": {
      "application/vnd.plotly.v1+json": {
       "config": {
        "plotlyServerURL": "https://plot.ly"
       },
       "data": [
        {
         "customdata": [
          [
           "Houston"
          ],
          [
           "Alabama"
          ],
          [
           "UCLA"
          ],
          [
           "Tennessee"
          ],
          [
           "Purdue"
          ],
          [
           "Saint Mary's"
          ],
          [
           "Connecticut"
          ],
          [
           "San Diego St."
          ],
          [
           "Arizona"
          ],
          [
           "Gonzaga"
          ],
          [
           "Kansas"
          ],
          [
           "Baylor"
          ],
          [
           "Texas"
          ],
          [
           "Arkansas"
          ],
          [
           "Creighton"
          ],
          [
           "Marquette"
          ],
          [
           "Texas A&M"
          ],
          [
           "Xavier"
          ],
          [
           "West Virginia"
          ],
          [
           "Kansas St."
          ],
          [
           "TCU"
          ],
          [
           "Iowa St."
          ],
          [
           "Auburn"
          ],
          [
           "Indiana"
          ],
          [
           "Memphis"
          ],
          [
           "Michigan St."
          ],
          [
           "Maryland"
          ],
          [
           "Kentucky"
          ],
          [
           "Boise St."
          ],
          [
           "Duke"
          ],
          [
           "Rutgers"
          ],
          [
           "Oklahoma St."
          ],
          [
           "Providence"
          ],
          [
           "Virginia"
          ],
          [
           "USC"
          ],
          [
           "Utah St."
          ],
          [
           "Miami FL"
          ],
          [
           "Northwestern"
          ],
          [
           "New Mexico"
          ],
          [
           "Mississippi St."
          ],
          [
           "North Carolina"
          ],
          [
           "Cincinnati"
          ],
          [
           "Nevada"
          ],
          [
           "Illinois"
          ],
          [
           "Michigan"
          ],
          [
           "Texas Tech"
          ],
          [
           "North Carolina St."
          ],
          [
           "Penn St."
          ],
          [
           "Iowa"
          ],
          [
           "Missouri"
          ],
          [
           "Utah"
          ],
          [
           "Oregon"
          ],
          [
           "Oklahoma"
          ],
          [
           "Clemson"
          ],
          [
           "Washington St."
          ],
          [
           "Dayton"
          ],
          [
           "UCF"
          ],
          [
           "Pittsburgh"
          ],
          [
           "Wisconsin"
          ],
          [
           "Ohio St."
          ],
          [
           "VCU"
          ],
          [
           "Seton Hall"
          ],
          [
           "Arizona St."
          ],
          [
           "Wake Forest"
          ],
          [
           "Villanova"
          ],
          [
           "Santa Clara"
          ],
          [
           "Florida"
          ],
          [
           "BYU"
          ],
          [
           "Colorado"
          ],
          [
           "Virginia Tech"
          ],
          [
           "Vanderbilt"
          ],
          [
           "Tulane"
          ],
          [
           "UNLV"
          ],
          [
           "Wichita St."
          ],
          [
           "Stanford"
          ],
          [
           "St. John's"
          ],
          [
           "Duquesne"
          ],
          [
           "Temple"
          ],
          [
           "San Jose St."
          ],
          [
           "Saint Louis"
          ],
          [
           "San Francisco"
          ],
          [
           "Nebraska"
          ],
          [
           "Washington"
          ],
          [
           "Colorado St."
          ],
          [
           "Mississippi"
          ],
          [
           "Loyola Marymount"
          ],
          [
           "South Florida"
          ],
          [
           "Syracuse"
          ],
          [
           "Butler"
          ],
          [
           "Davidson"
          ],
          [
           "Fresno St."
          ],
          [
           "Air Force"
          ],
          [
           "Georgia"
          ],
          [
           "Notre Dame"
          ],
          [
           "Wyoming"
          ],
          [
           "DePaul"
          ],
          [
           "George Mason"
          ],
          [
           "SMU"
          ],
          [
           "Fordham"
          ],
          [
           "Boston College"
          ],
          [
           "LSU"
          ],
          [
           "Portland"
          ],
          [
           "Richmond"
          ],
          [
           "St. Bonaventure"
          ],
          [
           "Pacific"
          ],
          [
           "Georgia Tech"
          ],
          [
           "Georgetown"
          ],
          [
           "Saint Joseph's"
          ],
          [
           "Pepperdine"
          ],
          [
           "George Washington"
          ],
          [
           "Florida St."
          ],
          [
           "Massachusetts"
          ],
          [
           "San Diego"
          ],
          [
           "East Carolina"
          ],
          [
           "La Salle"
          ],
          [
           "Oregon St."
          ],
          [
           "Rhode Island"
          ],
          [
           "South Carolina"
          ],
          [
           "Loyola Chicago"
          ],
          [
           "Minnesota"
          ],
          [
           "California"
          ],
          [
           "Louisville"
          ],
          [
           "Tulsa"
          ]
         ],
         "hovertemplate": "adjoe=%{x}<br>adjde=%{y}<br>team=%{customdata[0]}<extra></extra>",
         "legendgroup": "",
         "marker": {
          "color": "#000001",
          "symbol": "circle"
         },
         "mode": "markers",
         "name": "",
         "orientation": "v",
         "showlegend": false,
         "type": "scatter",
         "x": [
          121.48753258409232,
          118.45087473600104,
          114.63560444226854,
          112.00403348154155,
          119.10558118273468,
          114.14005148912852,
          119.79420968004824,
          115.13181047490468,
          120.57769775776036,
          124.8101209645404,
          115.91029059151953,
          123.00906379371072,
          117.64934209303016,
          112.77509916312124,
          114.90122987533648,
          120.70880469551354,
          116.44259233039168,
          119.54412145403772,
          117.42488806585216,
          112.1376527326187,
          113.53059081171128,
          109.60671069039071,
          111.71246515830322,
          115.4988481852898,
          115.31134904512994,
          112.98738053814928,
          114.51523558684104,
          118.11258635363087,
          109.86292402325157,
          111.97104816442058,
          105.48682648696438,
          109.0750234961356,
          116.44902131373564,
          111.00773829120834,
          113.66506945159524,
          116.87474879189278,
          119.1504320528398,
          110.51199736154383,
          115.78810206859916,
          104.81660022473793,
          111.8598095132606,
          112.725350541064,
          112.13621336486614,
          110.06399680654528,
          113.17937698114706,
          112.092242023536,
          114.51339354509918,
          118.28015580947762,
          120.53196934266214,
          119.31990092261134,
          109.33809688175296,
          114.59831076641782,
          110.74107788211012,
          111.85881055947462,
          110.8776575495924,
          110.03215155782678,
          109.96121637655617,
          114.13933288238236,
          106.46001725198582,
          114.31959517850528,
          105.6194257393598,
          104.64313431072904,
          107.99028489508991,
          115.5321859065318,
          112.58436535051769,
          112.41691456212874,
          107.25229241141336,
          108.04880389293332,
          105.02150062426033,
          114.57670542273225,
          115.77510143414868,
          111.16663224995048,
          108.68883774757686,
          108.47477330162825,
          113.58050279213104,
          108.29555208915536,
          109.39087342242276,
          108.67419084074665,
          111.44816958288509,
          111.31124201735142,
          110.694450309414,
          105.41626146027409,
          104.00869633619637,
          112.76853963816984,
          107.0926713469408,
          109.50181270295036,
          108.52566793070125,
          110.82153595673242,
          101.64213264141408,
          109.065229670133,
          102.12879854870256,
          107.2939819739271,
          106.0102595447461,
          109.51621124739,
          108.43895007758664,
          106.70746140669604,
          103.94493957368124,
          103.56890606666104,
          102.97566090123948,
          102.78503951231102,
          105.75902941241247,
          109.94655802552649,
          104.83554519559056,
          102.66865658648814,
          108.6696854529668,
          102.8144617657672,
          105.70573273318526,
          104.75694558424362,
          105.82372715495455,
          109.5010815438963,
          106.17659012159405,
          102.5088021412454,
          110.49041764220118,
          102.7072772228128,
          104.3689113067358,
          99.052905017541,
          99.18339167955205,
          103.73506626330428,
          102.15173394737836,
          100.2542557314008,
          97.88370582045124,
          102.12504307277644,
          100.80132214111606
         ],
         "xaxis": "x",
         "y": [
          91.91665805936388,
          91.47486158563852,
          89.89871813513201,
          87.9522054212969,
          94.51447278705244,
          90.97054247084472,
          96.41033901264156,
          93.31162181644942,
          98.08105816194566,
          101.80673622821976,
          94.64979360757737,
          100.70409169548212,
          96.44456559255028,
          93.42152496151144,
          95.22810965155593,
          100.3826217167878,
          97.25868892346604,
          100.39034512511768,
          98.69301423906025,
          94.32232869984954,
          95.55304201387676,
          92.32691523045206,
          94.87403422793663,
          98.2187271415667,
          98.2931929542712,
          96.55613186701795,
          97.92357375822274,
          101.08061231635196,
          94.20952917416564,
          96.3848469712472,
          90.93855747251432,
          94.1529058902084,
          100.64407453802846,
          96.20555027341716,
          98.6618081782256,
          101.45591126335484,
          103.51588111861172,
          96.09387249292196,
          101.40207642527336,
          91.87081099679872,
          98.04776129256734,
          98.83146659991873,
          98.44507311572778,
          96.6950294631155,
          99.43852049042152,
          98.5581094199056,
          100.81766941125052,
          104.36131191723422,
          106.39265197094755,
          105.61129600915967,
          96.88534116248894,
          101.55407291546436,
          98.1991467219005,
          99.21175466811432,
          98.54578938632211,
          97.91341122973124,
          98.20810759741808,
          102.35223776645572,
          95.907836395471,
          102.99333275502762,
          95.17831244811867,
          94.42013508276042,
          97.46267836196678,
          104.33312767473988,
          101.6754066691215,
          101.57071861657022,
          96.95303915246376,
          97.6961472427744,
          95.16973791597918,
          104.0027512460566,
          106.0823025704192,
          102.07881894104196,
          100.1523958357184,
          100.41954716941667,
          105.23428299002065,
          100.85450380828246,
          102.07690137624716,
          101.4713025188088,
          104.57480691597326,
          104.6271976263617,
          104.0898594725735,
          99.65426695697052,
          98.66326832294264,
          107.23545463067671,
          102.54220805601912,
          104.8606495742579,
          104.80498955532758,
          107.37628637993464,
          98.52443391855576,
          105.78736137450848,
          99.75176436384484,
          105.20109097287566,
          104.23125241402369,
          107.98329480587296,
          107.06527498850068,
          105.7257884847066,
          103.01623182521747,
          102.85437315617588,
          102.5946742012072,
          102.4142476581695,
          105.39124406510108,
          109.79852274371336,
          104.74315804644502,
          102.72809899293132,
          108.85308097786836,
          103.23843003374668,
          106.8746309783455,
          105.98277302519314,
          107.5750570976129,
          111.55139089238976,
          108.68069439597944,
          104.98554402643003,
          113.71548507629323,
          106.04355469071996,
          107.8767668995399,
          102.614366128395,
          103.6730168264828,
          108.6154979115552,
          107.0019161421956,
          105.13961974278784,
          105.36868224792866,
          110.27983776322418,
          110.67245598209632
         ],
         "yaxis": "y"
        }
       ],
       "layout": {
        "legend": {
         "tracegroupgap": 0
        },
        "margin": {
         "t": 60
        },
        "template": {
         "data": {
          "candlestick": [
           {
            "decreasing": {
             "line": {
              "color": "#000033"
             }
            },
            "increasing": {
             "line": {
              "color": "#000032"
             }
            },
            "type": "candlestick"
           }
          ],
          "contour": [
           {
            "colorscale": [
             [
              0,
              "#000011"
             ],
             [
              0.1111111111111111,
              "#000012"
             ],
             [
              0.2222222222222222,
              "#000013"
             ],
             [
              0.3333333333333333,
              "#000014"
             ],
             [
              0.4444444444444444,
              "#000015"
             ],
             [
              0.5555555555555556,
              "#000016"
             ],
             [
              0.6666666666666666,
              "#000017"
             ],
             [
              0.7777777777777778,
              "#000018"
             ],
             [
              0.8888888888888888,
              "#000019"
             ],
             [
              1,
              "#000020"
             ]
            ],
            "type": "contour"
           }
          ],
          "contourcarpet": [
           {
            "colorscale": [
             [
              0,
              "#000011"
             ],
             [
              0.1111111111111111,
              "#000012"
             ],
             [
              0.2222222222222222,
              "#000013"
             ],
             [
              0.3333333333333333,
              "#000014"
             ],
             [
              0.4444444444444444,
              "#000015"
             ],
             [
              0.5555555555555556,
              "#000016"
             ],
             [
              0.6666666666666666,
              "#000017"
             ],
             [
              0.7777777777777778,
              "#000018"
             ],
             [
              0.8888888888888888,
              "#000019"
             ],
             [
              1,
              "#000020"
             ]
            ],
            "type": "contourcarpet"
           }
          ],
          "heatmap": [
           {
            "colorscale": [
             [
              0,
              "#000011"
             ],
             [
              0.1111111111111111,
              "#000012"
             ],
             [
              0.2222222222222222,
              "#000013"
             ],
             [
              0.3333333333333333,
              "#000014"
             ],
             [
              0.4444444444444444,
              "#000015"
             ],
             [
              0.5555555555555556,
              "#000016"
             ],
             [
              0.6666666666666666,
              "#000017"
             ],
             [
              0.7777777777777778,
              "#000018"
             ],
             [
              0.8888888888888888,
              "#000019"
             ],
             [
              1,
              "#000020"
             ]
            ],
            "type": "heatmap"
           }
          ],
          "histogram2d": [
           {
            "colorscale": [
             [
              0,
              "#000011"
             ],
             [
              0.1111111111111111,
              "#000012"
             ],
             [
              0.2222222222222222,
              "#000013"
             ],
             [
              0.3333333333333333,
              "#000014"
             ],
             [
              0.4444444444444444,
              "#000015"
             ],
             [
              0.5555555555555556,
              "#000016"
             ],
             [
              0.6666666666666666,
              "#000017"
             ],
             [
              0.7777777777777778,
              "#000018"
             ],
             [
              0.8888888888888888,
              "#000019"
             ],
             [
              1,
              "#000020"
             ]
            ],
            "type": "histogram2d"
           }
          ],
          "icicle": [
           {
            "textfont": {
             "color": "white"
            },
            "type": "icicle"
           }
          ],
          "sankey": [
           {
            "textfont": {
             "color": "#000036"
            },
            "type": "sankey"
           }
          ],
          "scatter": [
           {
            "marker": {
             "line": {
              "width": 0
             }
            },
            "type": "scatter"
           }
          ],
          "table": [
           {
            "cells": {
             "fill": {
              "color": "#000038"
             },
             "font": {
              "color": "#000037"
             },
             "line": {
              "color": "#000039"
             }
            },
            "header": {
             "fill": {
              "color": "#000040"
             },
             "font": {
              "color": "#000036"
             },
             "line": {
              "color": "#000039"
             }
            },
            "type": "table"
           }
          ],
          "waterfall": [
           {
            "connector": {
             "line": {
              "color": "#000036",
              "width": 2
             }
            },
            "decreasing": {
             "marker": {
              "color": "#000033"
             }
            },
            "increasing": {
             "marker": {
              "color": "#000032"
             }
            },
            "totals": {
             "marker": {
              "color": "#000034"
             }
            },
            "type": "waterfall"
           }
          ]
         },
         "layout": {
          "coloraxis": {
           "colorscale": [
            [
             0,
             "#000011"
            ],
            [
             0.1111111111111111,
             "#000012"
            ],
            [
             0.2222222222222222,
             "#000013"
            ],
            [
             0.3333333333333333,
             "#000014"
            ],
            [
             0.4444444444444444,
             "#000015"
            ],
            [
             0.5555555555555556,
             "#000016"
            ],
            [
             0.6666666666666666,
             "#000017"
            ],
            [
             0.7777777777777778,
             "#000018"
            ],
            [
             0.8888888888888888,
             "#000019"
            ],
            [
             1,
             "#000020"
            ]
           ]
          },
          "colorscale": {
           "diverging": [
            [
             0,
             "#000021"
            ],
            [
             0.1,
             "#000022"
            ],
            [
             0.2,
             "#000023"
            ],
            [
             0.3,
             "#000024"
            ],
            [
             0.4,
             "#000025"
            ],
            [
             0.5,
             "#000026"
            ],
            [
             0.6,
             "#000027"
            ],
            [
             0.7,
             "#000028"
            ],
            [
             0.8,
             "#000029"
            ],
            [
             0.9,
             "#000030"
            ],
            [
             1,
             "#000031"
            ]
           ],
           "sequential": [
            [
             0,
             "#000011"
            ],
            [
             0.1111111111111111,
             "#000012"
            ],
            [
             0.2222222222222222,
             "#000013"
            ],
            [
             0.3333333333333333,
             "#000014"
            ],
            [
             0.4444444444444444,
             "#000015"
            ],
            [
             0.5555555555555556,
             "#000016"
            ],
            [
             0.6666666666666666,
             "#000017"
            ],
            [
             0.7777777777777778,
             "#000018"
            ],
            [
             0.8888888888888888,
             "#000019"
            ],
            [
             1,
             "#000020"
            ]
           ],
           "sequentialminus": [
            [
             0,
             "#000011"
            ],
            [
             0.1111111111111111,
             "#000012"
            ],
            [
             0.2222222222222222,
             "#000013"
            ],
            [
             0.3333333333333333,
             "#000014"
            ],
            [
             0.4444444444444444,
             "#000015"
            ],
            [
             0.5555555555555556,
             "#000016"
            ],
            [
             0.6666666666666666,
             "#000017"
            ],
            [
             0.7777777777777778,
             "#000018"
            ],
            [
             0.8888888888888888,
             "#000019"
            ],
            [
             1,
             "#000020"
            ]
           ]
          },
          "colorway": [
           "#000001",
           "#000002",
           "#000003",
           "#000004",
           "#000005",
           "#000006",
           "#000007",
           "#000008",
           "#000009",
           "#000010"
          ]
         }
        },
        "title": {
         "text": "<b> Offense vs Defense</b>"
        },
        "xaxis": {
         "anchor": "y",
         "domain": [
          0,
          1
         ],
         "title": {
          "text": "adjoe"
         }
        },
        "yaxis": {
         "anchor": "x",
         "domain": [
          0,
          1
         ],
         "title": {
          "text": "adjde"
         }
        }
       }
      }
     },
     "metadata": {},
     "output_type": "display_data"
    }
   ],
   "source": [
    "fig2"
   ]
  },
  {
   "cell_type": "code",
   "execution_count": null,
   "metadata": {},
   "outputs": [],
   "source": [
    "#streamlit run streamlit_workshop.py"
   ]
  },
  {
   "cell_type": "code",
   "execution_count": null,
   "metadata": {},
   "outputs": [],
   "source": []
  },
  {
   "cell_type": "code",
   "execution_count": 11,
   "metadata": {},
   "outputs": [
    {
     "data": {
      "text/plain": [
       "<AxesSubplot:ylabel='Frequency'>"
      ]
     },
     "execution_count": 11,
     "metadata": {},
     "output_type": "execute_result"
    },
    {
     "data": {
      "image/png": "[encoded data removed]",
      "text/plain": [
       "<Figure size 432x288 with 1 Axes>"
      ]
     },
     "metadata": {
      "needs_background": "light"
     },
     "output_type": "display_data"
    }
   ],
   "source": [
    "data['Conf Win%'].plot(kind = 'hist')\n"
   ]
  },
  {
   "cell_type": "code",
   "execution_count": 17,
   "metadata": {},
   "outputs": [
    {
     "data": {
      "text/plain": [
       "<AxesSubplot:ylabel='Frequency'>"
      ]
     },
     "execution_count": 17,
     "metadata": {},
     "output_type": "execute_result"
    },
    {
     "data": {
      "image/png": "[encoded data removed]",
      "text/plain": [
       "<Figure size 432x288 with 1 Axes>"
      ]
     },
     "metadata": {
      "needs_background": "light"
     },
     "output_type": "display_data"
    }
   ],
   "source": [
    "data['consos'].plot(kind = 'hist')\n"
   ]
  },
  {
   "cell_type": "code",
   "execution_count": null,
   "metadata": {},
   "outputs": [],
   "source": []
  },
  {
   "cell_type": "code",
   "execution_count": 12,
   "metadata": {},
   "outputs": [
    {
     "data": {
      "text/plain": [
       "<AxesSubplot:xlabel='Conf Win%', ylabel='consos'>"
      ]
     },
     "execution_count": 12,
     "metadata": {},
     "output_type": "execute_result"
    },
    {
     "data": {
      "image/png": "[encoded data removed]",
      "text/plain": [
       "<Figure size 432x288 with 1 Axes>"
      ]
     },
     "metadata": {
      "needs_background": "light"
     },
     "output_type": "display_data"
    }
   ],
   "source": [
    "data.plot(x = 'Conf Win%', y = 'consos', kind = 'scatter')"
   ]
  },
  {
   "cell_type": "code",
   "execution_count": 13,
   "metadata": {},
   "outputs": [
    {
     "data": {
      "text/plain": [
       "<AxesSubplot:title={'center':'rank'}, xlabel='conf'>"
      ]
     },
     "execution_count": 13,
     "metadata": {},
     "output_type": "execute_result"
    },
    {
     "data": {
      "image/png": "[encoded data removed]",
      "text/plain": [
       "<Figure size 432x288 with 1 Axes>"
      ]
     },
     "metadata": {
      "needs_background": "light"
     },
     "output_type": "display_data"
    }
   ],
   "source": [
    "data_top10_conf.boxplot(column = 'rank', by = 'conf')"
   ]
  }
 ],
 "metadata": {
  "kernelspec": {
   "display_name": "base",
   "language": "python",
   "name": "python3"
  },
  "language_info": {
   "codemirror_mode": {
    "name": "ipython",
    "version": 3
   },
   "file_extension": ".py",
   "mimetype": "text/x-python",
   "name": "python",
   "nbconvert_exporter": "python",
   "pygments_lexer": "ipython3",
   "version": "3.9.12"
  },
  "orig_nbformat": 4,
  "vscode": {
   "interpreter": {
    "hash": "1b864f881fac4c134158efd86fddd47dd16525e594e8d01e2704164ddfe0046b"
   }
  }
 },
 "nbformat": 4,
 "nbformat_minor": 2
}

{
 "cells": [
  {
   "attachments": {},
   "cell_type": "markdown",
   "metadata": {},
   "source": [
    "### Initialization"
   ]
  },
  {
   "cell_type": "code",
   "execution_count": 21,
   "metadata": {},
   "outputs": [],
   "source": [
    "# Load packages\n",
    "import pandas as pd\n",
    "import numpy as np\n",
    "import streamlit as st\n",
    "import plotly.express as px\n",
    "import lxml\n",
    "from datetime import date"
   ]
  },
  {
   "attachments": {},
   "cell_type": "markdown",
   "metadata": {},
   "source": [
    "### Load data"
   ]
  },
  {
   "cell_type": "code",
   "execution_count": 22,
   "metadata": {},
   "outputs": [],
   "source": [
    "# Web scrape html from url to get NCAA ratings for the current season\n",
    "today = date.today()\n",
    "year = today.year\n",
    "\n",
    "url = ('https://www.sports-reference.com/cbb/seasons/men/{}-ratings.html').format(year)\n",
    "html = pd.read_html(url, header = 0, skiprows=1)\n",
    "df = html[0]\n",
    "raw = df.drop(df[(df.Rk == 'Rk') | (df.OSRS == 'SRS')].index) # Deletes repeating headers in content\n",
    "teamstats = raw.drop(['Rk', 'Unnamed: 3', 'Unnamed: 10', 'Unnamed: 12'], axis=1) # Deletes empty columns"
   ]
  },
  {
   "attachments": {},
   "cell_type": "markdown",
   "metadata": {},
   "source": [
    "### Data Preprocessing"
   ]
  },
  {
   "cell_type": "code",
   "execution_count": 23,
   "metadata": {},
   "outputs": [],
   "source": [
    "# Set index to school name\n",
    "teamstats = teamstats.set_index('School')"
   ]
  },
  {
   "cell_type": "code",
   "execution_count": 24,
   "metadata": {},
   "outputs": [],
   "source": [
    "# Change data types\n",
    "teamstats = teamstats.astype({'W': 'int', 'L': 'int', 'Pts': 'float', 'Opp': 'float', \n",
    "                                                          'MOV': 'float', 'SOS': 'float', 'OSRS': 'float', 'DSRS': 'float', 'SRS': 'float',\n",
    "                                                        'ORtg': 'float', 'DRtg': 'float', 'NRtg': 'float'})\n"
   ]
  },
  {
   "cell_type": "code",
   "execution_count": 25,
   "metadata": {},
   "outputs": [],
   "source": [
    "#Rename columns\n",
    "teamstats.columns = ['Conference', 'AP_rank', 'Wins', 'Losses', 'Points_per_game', 'Opponent_points_per_game', 'Margin_of_victory', 'Strength_of_schedule', 'Offensive_SRS', 'Defensive_SRS',\n",
    "       'SRS', 'Adj_offensive_rating', 'Adj_defensive_rating', 'Adj_net_rating']"
   ]
  },
  {
   "cell_type": "code",
   "execution_count": 29,
   "metadata": {},
   "outputs": [],
   "source": [
    "# Classify top 25 and unranked groups\n",
    "def rank_group(rank):\n",
    "    if rank is np.nan:\n",
    "        return 'Unranked'\n",
    "    else:\n",
    "        return 'Top 25'\n",
    "\n",
    "# Add new col to dataframe\n",
    "teamstats['Ranking'] = teamstats['AP_rank'].apply(rank_group)"
   ]
  },
  {
   "attachments": {},
   "cell_type": "markdown",
   "metadata": {},
   "source": [
    "### Create Streamlit Elements"
   ]
  },
  {
   "cell_type": "code",
   "execution_count": 16,
   "metadata": {},
   "outputs": [
    {
     "name": "stderr",
     "output_type": "stream",
     "text": [
      "2023-03-03 09:56:10.385 \n",
      "  \u001b[33m\u001b[1mWarning:\u001b[0m to view this Streamlit app on a browser, run it with the following\n",
      "  command:\n",
      "\n",
      "    streamlit run /Users/laceymalarky/opt/anaconda3/lib/python3.9/site-packages/ipykernel_launcher.py [ARGUMENTS]\n"
     ]
    }
   ],
   "source": [
    "#creating title/header with an option to filter the data with a checkbox:\n",
    "#dataset includes all teams but this will let users decide whether they want\n",
    "#to see all teams or just those in the AP Poll's top 25\n",
    "\n",
    "st.title(f\"{year-1}-{year} Men's College Basketball Ratings\")\n",
    "st.markdown(\"\"\"\n",
    "This app performs web scraping of NCAA Division I men's basketball team statistics for the current season.\n",
    "* **Data Source:** https://www.sports-reference.com/cbb/\n",
    "* **Definitions:**\n",
    "    * **Simple Rating System (SRS)** takes into account average point differential and strength of schedule, separated into offensive and defensive components. The rating is denominated in points above/below average, where zero is average.\n",
    "    * **Adjusted Rating** is adjusted for strength of opposition. The offensive rating is an estimate of points scored per 100 possessions; defensive rating is an estimate of points allowed per 100 possessions; net rating is an estimate of point differential per 100 possessions.\n",
    "\n",
    "    *Non-Division I games are excluded from the ratings.*\n",
    "\"\"\")\n",
    "            \n",
    "ranked = st.checkbox('Filter the page to only include AP Top 25 Teams')\n",
    "\n",
    "if ranked:\n",
    "    teamstats = teamstats[teamstats.Ranking=='Top 25']\n"
   ]
  },
  {
   "attachments": {},
   "cell_type": "markdown",
   "metadata": {},
   "source": [
    "### Data Table"
   ]
  },
  {
   "cell_type": "code",
   "execution_count": 67,
   "metadata": {},
   "outputs": [
    {
     "data": {
      "text/plain": [
       "DeltaGenerator(_root_container=0, _provided_cursor=None, _parent=None, _block_type=None, _form_data=None)"
      ]
     },
     "execution_count": 67,
     "metadata": {},
     "output_type": "execute_result"
    }
   ],
   "source": [
    "# Create data table filterable by conference\n",
    "\n",
    "#creating options for filter from all conferences\n",
    "conference_choice = list(teamstats['Conference'].unique())\n",
    "\n",
    "conference_choice_all = []\n",
    "conference_choice_all = conference_choice[:]\n",
    "conference_choice_all.append('All')\n",
    "\n",
    "#conference_dropdown = st.multiselect('Conference: ', conference_choice_all)\n",
    "conference_dropdown = st.selectbox('Select a Conference: ', conference_choice_all, index = len(conference_choice_all)-1)\n",
    "\n",
    "#filtering dataset on chosen conference\n",
    "if 'All' in conference_dropdown:\n",
    "    filtered_conf=teamstats[teamstats.Conference.isin(conference_choice_all)]\n",
    "else:\n",
    "    filtered_conf=teamstats[teamstats.Conference == conference_dropdown]\n",
    "\n",
    "st.header('Display Team Statistics')\n",
    "st.write('Data Dimensions: ' + str(filtered_conf.shape[0]) + ' rows and ' + str(filtered_conf.shape[1]) + ' columns.')\n",
    "st.dataframe(filtered_conf)"
   ]
  },
  {
   "attachments": {},
   "cell_type": "markdown",
   "metadata": {},
   "source": [
    "### Scatterplot"
   ]
  },
  {
   "cell_type": "code",
   "execution_count": 68,
   "metadata": {},
   "outputs": [
    {
     "data": {
      "text/plain": [
       "DeltaGenerator(_root_container=0, _provided_cursor=None, _parent=None, _block_type=None, _form_data=None)"
      ]
     },
     "execution_count": 68,
     "metadata": {},
     "output_type": "execute_result"
    }
   ],
   "source": [
    "st.header('Compare Offensive and Defensive Ratings')\n",
    "st.write(\"\"\"\n",
    "###### Analyze the Simple Rating System (SRS) split into offensive and defensive components for unranked and top 25 teams\n",
    "\"\"\")\n",
    "\n",
    "fig1 = px.scatter(teamstats, x=\"Offensive_SRS\", y='Defensive_SRS',hover_data=[teamstats.index], color='Ranking')\n",
    "\n",
    "st.plotly_chart(fig1)"
   ]
  },
  {
   "attachments": {},
   "cell_type": "markdown",
   "metadata": {},
   "source": [
    "### Histogram"
   ]
  },
  {
   "cell_type": "code",
   "execution_count": 72,
   "metadata": {},
   "outputs": [
    {
     "data": {
      "text/plain": [
       "DeltaGenerator(_root_container=0, _provided_cursor=None, _parent=None, _block_type=None, _form_data=None)"
      ]
     },
     "execution_count": 72,
     "metadata": {},
     "output_type": "execute_result"
    }
   ],
   "source": [
    "st.header('How do Conferences Compare?')\n",
    "st.markdown(\"\"\"\n",
    "1. Select multiple conferences\n",
    "2. Select a statistic\n",
    "3. Compare data distributions\n",
    "\"\"\")\n",
    "\n",
    "#create multiselect for conferences\n",
    "comparison = st.multiselect('Select Conferences: ', conference_choice_all, default = 'All')\n",
    "\n",
    "#filtering dataset on chosen conference\n",
    "if 'All' in comparison:\n",
    "    filtered_comp=teamstats[teamstats.Conference.isin(conference_choice_all)]\n",
    "else:\n",
    "    filtered_comp=teamstats[teamstats.Conference.isin(comparison)]\n",
    "\n",
    "\n",
    "#creating list of options to choose from\n",
    "list_for_hist=['Points_per_game', 'Opponent_points_per_game', 'Margin_of_victory', 'Strength_of_schedule', 'Offensive_SRS', 'Defensive_SRS',\n",
    "       'SRS', 'Adj_offensive_rating', 'Adj_defensive_rating', 'Adj_net_rating']\n",
    "\n",
    "#creating selectbox\n",
    "choice_for_hist = st.selectbox('Select a Statistic', list_for_hist)\n",
    "\n",
    "#plotly histogram by selected metric  split by the choice of conferences in selectbox, ALL by default\n",
    "fig2 = px.histogram(filtered_comp, x=choice_for_hist, color='Conference')\n",
    "\n",
    "#adding tittle\n",
    "fig2.update_layout(\n",
    "title=\"<b> {} split by Selected Conferences</b>\".format(choice_for_hist))\n",
    "\n",
    "#embedding into streamlit\n",
    "st.plotly_chart(fig2)"
   ]
  },
  {
   "cell_type": "code",
   "execution_count": 88,
   "metadata": {},
   "outputs": [],
   "source": [
    "#cd git_projects/practicum_sprint4_project\n",
    "#streamlit run app.py"
   ]
  }
 ],
 "metadata": {
  "kernelspec": {
   "display_name": "base",
   "language": "python",
   "name": "python3"
  },
  "language_info": {
   "codemirror_mode": {
    "name": "ipython",
    "version": 3
   },
   "file_extension": ".py",
   "mimetype": "text/x-python",
   "name": "python",
   "nbconvert_exporter": "python",
   "pygments_lexer": "ipython3",
   "version": "3.9.12"
  },
  "orig_nbformat": 4,
  "vscode": {
   "interpreter": {
    "hash": "1b864f881fac4c134158efd86fddd47dd16525e594e8d01e2704164ddfe0046b"
   }
  }
 },
 "nbformat": 4,
 "nbformat_minor": 2
}
